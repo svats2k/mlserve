{
 "cells": [
  {
   "cell_type": "code",
   "execution_count": 1,
   "id": "48c8496e-c125-45d3-8616-b091809ad400",
   "metadata": {},
   "outputs": [],
   "source": [
    "from pathlib import Path\n",
    "\n",
    "from deploy.sagemaker.deploy_env import DeployEnv "
   ]
  },
  {
   "cell_type": "code",
   "execution_count": 2,
   "id": "253ae467-469a-4736-9195-2b5a84ddfb76",
   "metadata": {},
   "outputs": [],
   "source": [
    "env = DeployEnv()"
   ]
  },
  {
   "cell_type": "code",
   "execution_count": 4,
   "id": "89656aad-e02d-481c-9803-e353a8f6d904",
   "metadata": {},
   "outputs": [
    {
     "data": {
      "text/plain": [
       "'file:///home/srivatsas/work/repos/personal/mlserve/fvg/build/model.tar.gz'"
      ]
     },
     "execution_count": 4,
     "metadata": {},
     "output_type": "execute_result"
    }
   ],
   "source": [
    "env.setting('model_data_path')"
   ]
  }
 ],
 "metadata": {
  "kernelspec": {
   "display_name": "Python 3 (ipykernel)",
   "language": "python",
   "name": "python3"
  },
  "language_info": {
   "codemirror_mode": {
    "name": "ipython",
    "version": 3
   },
   "file_extension": ".py",
   "mimetype": "text/x-python",
   "name": "python",
   "nbconvert_exporter": "python",
   "pygments_lexer": "ipython3",
   "version": "3.8.10"
  }
 },
 "nbformat": 4,
 "nbformat_minor": 5
}
