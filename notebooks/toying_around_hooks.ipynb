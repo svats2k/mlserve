{
 "cells": [
  {
   "cell_type": "code",
   "execution_count": null,
   "id": "8767b22d-b6a6-411f-bacf-a7ac5241403b",
   "metadata": {},
   "outputs": [],
   "source": [
    "%load_ext autoreload"
   ]
  },
  {
   "cell_type": "code",
   "execution_count": null,
   "id": "eec4e053-8ab5-4a5e-8603-3f100446cd7e",
   "metadata": {},
   "outputs": [],
   "source": [
    "%autoreload 2"
   ]
  },
  {
   "cell_type": "code",
   "execution_count": 1,
   "id": "c1984704-66e5-4d12-ae01-1a707fe6bc53",
   "metadata": {},
   "outputs": [],
   "source": [
    "from pathlib import Path\n",
    "\n",
    "import torch\n",
    "import torchvision.models as models\n",
    "import torchvision.transforms as transforms\n",
    "import numpy as np\n",
    "from PIL import Image\n",
    "\n",
    "from feature_vector_generation.models import Img2Vec\n",
    "from feature_vector_generation.predict import Predict"
   ]
  },
  {
   "cell_type": "code",
   "execution_count": 2,
   "id": "68061584-e40c-4d39-a042-02e655be0569",
   "metadata": {},
   "outputs": [
    {
     "name": "stdout",
     "output_type": "stream",
     "text": [
      "Loading RESNET-18 model\n"
     ]
    },
    {
     "data": {
      "text/plain": [
       "('resnet-18', 512)"
      ]
     },
     "execution_count": 2,
     "metadata": {},
     "output_type": "execute_result"
    }
   ],
   "source": [
    "model = Img2Vec()\n",
    "img = Image.open('kitten_small.jpg')\n",
    "imgarr = np.asarray(img)\n",
    "\n",
    "model.model_name, model.layer_output_size"
   ]
  },
  {
   "cell_type": "code",
   "execution_count": 3,
   "id": "e516193e-b8fb-4377-97a0-b7abad58b747",
   "metadata": {},
   "outputs": [],
   "source": [
    "activation = {}\n",
    "def getActivation(name):\n",
    "    # the hook signature\n",
    "    def hook(model, input, output):\n",
    "        activation[name] = output.detach()\n",
    "    return hook"
   ]
  },
  {
   "cell_type": "code",
   "execution_count": 4,
   "id": "614eed7f-cbd9-488f-9bca-a562a0cb7e4a",
   "metadata": {},
   "outputs": [],
   "source": [
    "imgs_t = [model.normalize(model.to_tensor(model.scaler(Image.open(img_pth)))) for img_pth in Path('.').glob('*.jpeg')]\n",
    "imgs_np = np.array([model.normalize(model.to_tensor(model.scaler(Image.open(img_pth)))).numpy() for img_pth in Path('.').glob('*.jpeg')])"
   ]
  },
  {
   "cell_type": "code",
   "execution_count": 5,
   "id": "d1cf1242-082d-4ad3-a696-6205ae3294e7",
   "metadata": {},
   "outputs": [],
   "source": [
    "imgs_np = np.array([np.asarray(model.scaler(Image.open(img_pth))) for img_pth in Path('.').glob('*.jpeg')])"
   ]
  },
  {
   "cell_type": "code",
   "execution_count": 6,
   "id": "1eedf58d-3679-45a1-bc32-f2315d644a61",
   "metadata": {},
   "outputs": [
    {
     "data": {
      "text/plain": [
       "(1, 168, 224, 3)"
      ]
     },
     "execution_count": 6,
     "metadata": {},
     "output_type": "execute_result"
    }
   ],
   "source": [
    "imgs_np1 = np.expand_dims(np.asarray(img), 0)\n",
    "imgs_np1.shape"
   ]
  },
  {
   "cell_type": "code",
   "execution_count": 7,
   "id": "353da269-dd67-40f5-8144-3287785514d8",
   "metadata": {},
   "outputs": [
    {
     "data": {
      "text/plain": [
       "torch.Size([3, 3, 224, 224])"
      ]
     },
     "execution_count": 7,
     "metadata": {},
     "output_type": "execute_result"
    }
   ],
   "source": [
    "imgs_t = torch.stack([model.normalize(model.scaler(transforms.ToTensor()(img))) for img in imgs_np])\n",
    "imgs_t.shape"
   ]
  },
  {
   "cell_type": "markdown",
   "id": "f6cf455e-37af-4044-985b-c7d0ca5652c8",
   "metadata": {},
   "source": [
    "## Loading a pre-trained model"
   ]
  },
  {
   "cell_type": "markdown",
   "id": "d5fd839a-fb63-4477-a1a9-a904c971b6a8",
   "metadata": {},
   "source": [
    "### Model 1 - resent 18"
   ]
  },
  {
   "cell_type": "code",
   "execution_count": 6,
   "id": "20463b8a-86ed-46f8-8679-803e51ca3069",
   "metadata": {},
   "outputs": [
    {
     "ename": "AttributeError",
     "evalue": "'Img2Vec' object has no attribute '_modules'",
     "output_type": "error",
     "traceback": [
      "\u001b[0;31m---------------------------------------------------------------------------\u001b[0m",
      "\u001b[0;31mAttributeError\u001b[0m                            Traceback (most recent call last)",
      "\u001b[0;32m/tmp/ipykernel_368550/1687133656.py\u001b[0m in \u001b[0;36m<module>\u001b[0;34m\u001b[0m\n\u001b[1;32m      1\u001b[0m \u001b[0mresnet\u001b[0m \u001b[0;34m=\u001b[0m \u001b[0mmodels\u001b[0m\u001b[0;34m.\u001b[0m\u001b[0mresnet18\u001b[0m\u001b[0;34m(\u001b[0m\u001b[0;34m)\u001b[0m\u001b[0;34m\u001b[0m\u001b[0;34m\u001b[0m\u001b[0m\n\u001b[0;32m----> 2\u001b[0;31m \u001b[0mext_layer\u001b[0m \u001b[0;34m=\u001b[0m \u001b[0mmodel\u001b[0m\u001b[0;34m.\u001b[0m\u001b[0m_modules\u001b[0m\u001b[0;34m.\u001b[0m\u001b[0mget\u001b[0m\u001b[0;34m(\u001b[0m\u001b[0;34m'avgpool'\u001b[0m\u001b[0;34m)\u001b[0m\u001b[0;34m\u001b[0m\u001b[0;34m\u001b[0m\u001b[0m\n\u001b[0m\u001b[1;32m      3\u001b[0m \u001b[0;34m\u001b[0m\u001b[0m\n\u001b[1;32m      4\u001b[0m \u001b[0mh\u001b[0m \u001b[0;34m=\u001b[0m \u001b[0mext_layer\u001b[0m\u001b[0;34m.\u001b[0m\u001b[0mregister_forward_hook\u001b[0m\u001b[0;34m(\u001b[0m\u001b[0mgetActivation\u001b[0m\u001b[0;34m(\u001b[0m\u001b[0;34m'fvec'\u001b[0m\u001b[0;34m)\u001b[0m\u001b[0;34m)\u001b[0m\u001b[0;34m\u001b[0m\u001b[0;34m\u001b[0m\u001b[0m\n\u001b[1;32m      5\u001b[0m \u001b[0;34m\u001b[0m\u001b[0m\n",
      "\u001b[0;31mAttributeError\u001b[0m: 'Img2Vec' object has no attribute '_modules'"
     ]
    }
   ],
   "source": [
    "resnet = models.resnet18()\n",
    "ext_layer = model._modules.get('avgpool')\n",
    "\n",
    "h = ext_layer.register_forward_hook(getActivation('fvec'))\n",
    "\n",
    "preds = resnet(imgs_t)\n",
    "h.remove()\n",
    "\n",
    "activation['fvec'].squeeze().shape"
   ]
  },
  {
   "cell_type": "markdown",
   "id": "06a27223-9160-46d3-8539-d7104c1f041c",
   "metadata": {},
   "source": [
    "### Model 2 - resnet 18"
   ]
  },
  {
   "cell_type": "code",
   "execution_count": 9,
   "id": "114bbd56-bc75-4683-9632-8ea8172e7e6b",
   "metadata": {},
   "outputs": [
    {
     "name": "stdout",
     "output_type": "stream",
     "text": [
      "Loading RESNET-18 model\n"
     ]
    },
    {
     "data": {
      "text/plain": [
       "torch.Size([3, 512])"
      ]
     },
     "execution_count": 9,
     "metadata": {},
     "output_type": "execute_result"
    }
   ],
   "source": [
    "model = Img2Vec(model='resnet-18')\n",
    "\n",
    "h = model.extraction_layer.register_forward_hook(getActivation('fvec'))\n",
    "\n",
    "preds = model.model(imgs_t)\n",
    "h.remove()\n",
    "\n",
    "activation['fvec'].squeeze().shape"
   ]
  },
  {
   "cell_type": "markdown",
   "id": "d11894a5-98d0-40ad-aeef-ac29dc9d62c8",
   "metadata": {},
   "source": [
    "### Model 3 - vgg"
   ]
  },
  {
   "cell_type": "code",
   "execution_count": 11,
   "id": "b72df94c-5f42-49b7-882e-f7bbea77a6a7",
   "metadata": {},
   "outputs": [
    {
     "name": "stdout",
     "output_type": "stream",
     "text": [
      "Loading VGG-11 model\n"
     ]
    },
    {
     "data": {
      "text/plain": [
       "torch.Size([3, 4096])"
      ]
     },
     "execution_count": 11,
     "metadata": {},
     "output_type": "execute_result"
    }
   ],
   "source": [
    "vgg = Img2Vec(model='vgg')\n",
    "h = vgg.extraction_layer.register_forward_hook(getActivation('fvec'))\n",
    "\n",
    "preds = vgg.model(imgs_t)\n",
    "h.remove()\n",
    "\n",
    "activation['fvec'].squeeze().shape"
   ]
  },
  {
   "cell_type": "markdown",
   "id": "3bfc0d15-bc74-4521-bb50-5aee425bcf85",
   "metadata": {},
   "source": [
    "### Model 4 - Alexnet"
   ]
  },
  {
   "cell_type": "code",
   "execution_count": 15,
   "id": "da0a9b97-9105-45ae-8bee-f6052cd4742c",
   "metadata": {},
   "outputs": [
    {
     "name": "stdout",
     "output_type": "stream",
     "text": [
      "Loading ALEXNET model\n"
     ]
    },
    {
     "data": {
      "text/plain": [
       "torch.Size([3, 4096])"
      ]
     },
     "execution_count": 15,
     "metadata": {},
     "output_type": "execute_result"
    }
   ],
   "source": [
    "alexnet = Img2Vec(model='alexnet')\n",
    "h = alexnet.extraction_layer.register_forward_hook(getActivation('fvec'))\n",
    "\n",
    "preds = alexnet.model(imgs_t)\n",
    "h.remove()\n",
    "\n",
    "activation['fvec'].shape"
   ]
  },
  {
   "cell_type": "markdown",
   "id": "5660584b-e799-4fdf-af0c-fa2f7cdb90d1",
   "metadata": {},
   "source": [
    "### Loading densenet model"
   ]
  },
  {
   "cell_type": "code",
   "execution_count": 14,
   "id": "c893e37d-a5d5-4039-a700-897837d2fbe4",
   "metadata": {},
   "outputs": [
    {
     "name": "stderr",
     "output_type": "stream",
     "text": [
      "Downloading: \"https://download.pytorch.org/models/densenet121-a639ec97.pth\" to /home/srivatsas/.cache/torch/hub/checkpoints/densenet121-a639ec97.pth\n"
     ]
    },
    {
     "data": {
      "application/vnd.jupyter.widget-view+json": {
       "model_id": "dcf23b05250f41018514d6d8ef0d44c0",
       "version_major": 2,
       "version_minor": 0
      },
      "text/plain": [
       "  0%|          | 0.00/30.8M [00:00<?, ?B/s]"
      ]
     },
     "metadata": {},
     "output_type": "display_data"
    },
    {
     "data": {
      "text/plain": [
       "torch.Size([3, 1024, 7, 7])"
      ]
     },
     "execution_count": 14,
     "metadata": {},
     "output_type": "execute_result"
    }
   ],
   "source": [
    "densenet = Img2Vec(model='densenet')\n",
    "h = densenet.extraction_layer.register_forward_hook(getActivation('fvec'))\n",
    "\n",
    "preds = densenet.model(imgs_t)\n",
    "h.remove()\n",
    "\n",
    "activation['fvec'].squeeze().shape"
   ]
  },
  {
   "cell_type": "markdown",
   "id": "b4cdeca9-06b6-4e9f-9845-fa1a6ea341a2",
   "metadata": {},
   "source": [
    "## Using Predict module"
   ]
  },
  {
   "cell_type": "code",
   "execution_count": 9,
   "id": "ea88d996-55c3-4694-9069-98725f2d6d5d",
   "metadata": {},
   "outputs": [
    {
     "name": "stdout",
     "output_type": "stream",
     "text": [
      "Loading VGG-11 model\n"
     ]
    },
    {
     "data": {
      "text/plain": [
       "(3, 4096)"
      ]
     },
     "execution_count": 9,
     "metadata": {},
     "output_type": "execute_result"
    }
   ],
   "source": [
    "vgg = Predict(model='vgg')\n",
    "\n",
    "vgg.get_vec_np(imgs_np).shape"
   ]
  },
  {
   "cell_type": "code",
   "execution_count": 10,
   "id": "c7cc9437-6373-4370-9ae1-3e0f17cd80ea",
   "metadata": {},
   "outputs": [
    {
     "name": "stdout",
     "output_type": "stream",
     "text": [
      "Loading RESNET-18 model\n"
     ]
    },
    {
     "data": {
      "text/plain": [
       "(3, 512)"
      ]
     },
     "execution_count": 10,
     "metadata": {},
     "output_type": "execute_result"
    }
   ],
   "source": [
    "resnet = Predict()\n",
    "\n",
    "resnet.get_vec_np(imgs_np).shape"
   ]
  },
  {
   "cell_type": "code",
   "execution_count": 12,
   "id": "42b2f676-302c-411c-a987-ef9699e7bfc2",
   "metadata": {},
   "outputs": [
    {
     "name": "stdout",
     "output_type": "stream",
     "text": [
      "Loading ALEXNET model\n"
     ]
    },
    {
     "data": {
      "text/plain": [
       "(3, 4096)"
      ]
     },
     "execution_count": 12,
     "metadata": {},
     "output_type": "execute_result"
    }
   ],
   "source": [
    "alexnet = Predict(model='alexnet')\n",
    "\n",
    "alexnet.get_vec_np(imgs_np).shape"
   ]
  },
  {
   "cell_type": "code",
   "execution_count": 13,
   "id": "310e10b7-374d-485f-8106-62d1c186e75c",
   "metadata": {},
   "outputs": [
    {
     "data": {
      "text/plain": [
       "tuple"
      ]
     },
     "execution_count": 13,
     "metadata": {},
     "output_type": "execute_result"
    }
   ],
   "source": [
    "def f():\n",
    "    return 2,3\n",
    "\n",
    "type(f())"
   ]
  }
 ],
 "metadata": {
  "kernelspec": {
   "display_name": "Python 3 (ipykernel)",
   "language": "python",
   "name": "python3"
  },
  "language_info": {
   "codemirror_mode": {
    "name": "ipython",
    "version": 3
   },
   "file_extension": ".py",
   "mimetype": "text/x-python",
   "name": "python",
   "nbconvert_exporter": "python",
   "pygments_lexer": "ipython3",
   "version": "3.8.10"
  }
 },
 "nbformat": 4,
 "nbformat_minor": 5
}
